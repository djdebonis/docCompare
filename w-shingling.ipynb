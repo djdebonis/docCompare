{
 "cells": [
  {
   "cell_type": "markdown",
   "metadata": {},
   "source": [
    "## W-Shingling\n",
    "\n",
    "Given the n-grams across two documents, where the items/tokens are words, find the Jaccard Coefficient of the two documents using the following:\n",
    "\n",
    "$$J(S(d_{1}), S(d_{2})) = \\frac{S(d_{1}) \\cap S(d_{2})}{S(d_{1}) \\cup S(d_{2})}$$\n",
    "\n",
    "Sources:\n",
    "\n",
    "https://nlp.stanford.edu/IR-book/html/htmledition/near-duplicates-and-shingling-1.html"
   ]
  },
  {
   "cell_type": "code",
   "execution_count": 1,
   "metadata": {},
   "outputs": [],
   "source": [
    "setTest = \"a rose is a rose is a rose\""
   ]
  },
  {
   "cell_type": "code",
   "execution_count": 10,
   "metadata": {},
   "outputs": [],
   "source": [
    "def getTokens_basic(string):\n",
    "    tokens = string.split(\" \")\n",
    "    return(tokens)"
   ]
  },
  {
   "cell_type": "code",
   "execution_count": 11,
   "metadata": {},
   "outputs": [],
   "source": [
    "def getTokens(tokens, pattern = r\"\\w+|\\d+\"):\n",
    "    \"\"\"\n",
    "    Uses re and nltk to tokenize each string (sentence) in a list into a list of tokens (words).\n",
    "    \n",
    "    Parameters\n",
    "    ----------\n",
    "    lsOfSent : list of str(s)\n",
    "        `lsOfSent` is a list of strings, where each string is a sentence (one token of the total doc).\n",
    "        \n",
    "    Returns\n",
    "    -------\n",
    "    lsOfLsOfToken : list of list(s) of str(s)\n",
    "        returns a string with all of the text read in from the .txt document directed by `infilePathAndName`\n",
    "    \n",
    "    See Also\n",
    "    --------\n",
    "        functions.readData : function tailored to read the specific datasets in this repository\n",
    "    \n",
    "    \"\"\"\n",
    "    \n",
    "    # pattern = r\"\\w+|\\d+\" # grabs words and numbers; removes punctuation\n",
    "    tokens = regexp_tokenize(token, pattern)\n",
    "    \n",
    "    return(tokens)"
   ]
  },
  {
   "cell_type": "code",
   "execution_count": 12,
   "metadata": {},
   "outputs": [],
   "source": [
    "def get_nGrams(tokens, n):\n",
    "    \"\"\"\n",
    "    Takes in a cleaned string (more cleaning features will\n",
    "    be brought in later) and returns a list of lists\n",
    "    of n-grams from the str `string` given that each sublist\n",
    "    will be of len(`n`).\n",
    "    \n",
    "    `n` \n",
    "    \n",
    "    \"\"\"\n",
    "    lastTokenLimit = len(tokens) - (n-1)\n",
    "    grams = []\n",
    "    for i in range(lastTokenLimit):\n",
    "        grams.append(tokens[i:(i+n)])\n",
    "    \n",
    "    return(grams)"
   ]
  },
  {
   "cell_type": "code",
   "execution_count": 13,
   "metadata": {},
   "outputs": [],
   "source": [
    "def getUnion(set1, set2):\n",
    "    \"\"\"\n",
    "    Takes two sets (each set is a list of lists) and returns\n",
    "    the union of the two sets (a list of lists); i.e. returns\n",
    "    a single set of all of the unique sets between the two sets\n",
    "    given in the arguments. (what a mouth-full)\n",
    "    \n",
    "    \"\"\"\n",
    "    \n",
    "    unionSet = []\n",
    "    \n",
    "    for index,ngram in enumerate(set1):\n",
    "        if ngram not in unionSet:\n",
    "            \n",
    "    "
   ]
  },
  {
   "cell_type": "code",
   "execution_count": 26,
   "metadata": {},
   "outputs": [
    {
     "name": "stdout",
     "output_type": "stream",
     "text": [
      "Shingle 1: ['a', 'rose', 'is', 'a']\n",
      "Shingle 2: ['rose', 'is', 'a', 'rose']\n",
      "Shingle 3: ['is', 'a', 'rose', 'is']\n",
      "Shingle 4: ['a', 'rose', 'is', 'a']\n",
      "Shingle 5: ['rose', 'is', 'a', 'rose']\n"
     ]
    }
   ],
   "source": [
    "roseGram4 = get_nGrams(setTest, 4)\n",
    "for i,e in enumerate(roseGram4):\n",
    "    print(\"Shingle %d: \"%(i+1) + str(e))"
   ]
  },
  {
   "cell_type": "code",
   "execution_count": 2,
   "metadata": {},
   "outputs": [
    {
     "data": {
      "text/plain": [
       "True"
      ]
     },
     "execution_count": 2,
     "metadata": {},
     "output_type": "execute_result"
    }
   ],
   "source": []
  },
  {
   "cell_type": "code",
   "execution_count": 4,
   "metadata": {},
   "outputs": [
    {
     "data": {
      "text/plain": [
       "True"
      ]
     },
     "execution_count": 4,
     "metadata": {},
     "output_type": "execute_result"
    }
   ],
   "source": [
    "[\"fruit\", \"cake\"] == [\"fruit\", \"cake\"]"
   ]
  },
  {
   "cell_type": "code",
   "execution_count": null,
   "metadata": {},
   "outputs": [],
   "source": []
  }
 ],
 "metadata": {
  "kernelspec": {
   "display_name": "Python 3",
   "language": "python",
   "name": "python3"
  },
  "language_info": {
   "codemirror_mode": {
    "name": "ipython",
    "version": 3
   },
   "file_extension": ".py",
   "mimetype": "text/x-python",
   "name": "python",
   "nbconvert_exporter": "python",
   "pygments_lexer": "ipython3",
   "version": "3.7.3"
  }
 },
 "nbformat": 4,
 "nbformat_minor": 4
}
