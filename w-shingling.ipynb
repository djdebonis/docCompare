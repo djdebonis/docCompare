{
 "cells": [
  {
   "cell_type": "markdown",
   "metadata": {},
   "source": [
    "## W-Shingling\n",
    "\n",
    "Given the n-grams across two documents, where the items/tokens are words, find the Jaccard Coefficient of the two documents using the following:\n",
    "\n",
    "$$J(S(d_{1}), S(d_{2})) = \\frac{S(d_{1}) \\cap S(d_{2)}}{S(d_{1}) \\cup S(d_{2})}$$"
   ]
  },
  {
   "cell_type": "code",
   "execution_count": null,
   "metadata": {},
   "outputs": [],
   "source": []
  }
 ],
 "metadata": {
  "kernelspec": {
   "display_name": "Python 3",
   "language": "python",
   "name": "python3"
  },
  "language_info": {
   "codemirror_mode": {
    "name": "ipython",
    "version": 3
   },
   "file_extension": ".py",
   "mimetype": "text/x-python",
   "name": "python",
   "nbconvert_exporter": "python",
   "pygments_lexer": "ipython3",
   "version": "3.7.3"
  }
 },
 "nbformat": 4,
 "nbformat_minor": 4
}
