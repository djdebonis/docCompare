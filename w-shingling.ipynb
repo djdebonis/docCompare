{
 "cells": [
  {
   "cell_type": "markdown",
   "metadata": {},
   "source": [
    "## W-Shingling\n",
    "\n",
    "Given the n-grams across two documents, where the items/tokens are words, find the Jaccard Coefficient of the two documents using the following:\n",
    "\n",
    "$$J(S(d_{1}), S(d_{2})) = \\frac{S(d_{1}) \\cap S(d_{2})}{S(d_{1}) \\cup S(d_{2})}$$\n",
    "\n",
    "Sources:\n",
    "\n",
    "https://nlp.stanford.edu/IR-book/html/htmledition/near-duplicates-and-shingling-1.html"
   ]
  },
  {
   "cell_type": "code",
   "execution_count": 1,
   "metadata": {},
   "outputs": [],
   "source": [
    "setTest = \"a rose is a rose is a rose\""
   ]
  },
  {
   "cell_type": "code",
   "execution_count": 18,
   "metadata": {},
   "outputs": [],
   "source": [
    "def get_nGrams(string, n):\n",
    "    \"\"\"\n",
    "    Takes in a cleaned string (more cleaning features will\n",
    "    be brought in later) and returns a list of lists\n",
    "    of n-grams from the str `string` given that each sublist\n",
    "    will be of len(`n`).\n",
    "    \n",
    "    `n` must be less than\n",
    "    \n",
    "    \"\"\"\n",
    "    tokens = string.split(' ')\n",
    "    lastTokenLimit = len(tokens) - (n-1)\n",
    "    grams = []\n",
    "    for i in range(lastTokenLimit):\n",
    "        grams.append(tokens[i:(i+n)])\n",
    "    \n",
    "    return(grams)"
   ]
  },
  {
   "cell_type": "code",
   "execution_count": 26,
   "metadata": {},
   "outputs": [
    {
     "name": "stdout",
     "output_type": "stream",
     "text": [
      "Shingle 1: ['a', 'rose', 'is', 'a']\n",
      "Shingle 2: ['rose', 'is', 'a', 'rose']\n",
      "Shingle 3: ['is', 'a', 'rose', 'is']\n",
      "Shingle 4: ['a', 'rose', 'is', 'a']\n",
      "Shingle 5: ['rose', 'is', 'a', 'rose']\n"
     ]
    }
   ],
   "source": [
    "roseGram4 = get_nGrams(setTest, 4)\n",
    "for i,e in enumerate(roseGram4):\n",
    "    print(\"Shingle %d: \"%(i+1) + str(e))"
   ]
  },
  {
   "cell_type": "code",
   "execution_count": null,
   "metadata": {},
   "outputs": [],
   "source": []
  }
 ],
 "metadata": {
  "kernelspec": {
   "display_name": "Python 3",
   "language": "python",
   "name": "python3"
  },
  "language_info": {
   "codemirror_mode": {
    "name": "ipython",
    "version": 3
   },
   "file_extension": ".py",
   "mimetype": "text/x-python",
   "name": "python",
   "nbconvert_exporter": "python",
   "pygments_lexer": "ipython3",
   "version": "3.7.3"
  }
 },
 "nbformat": 4,
 "nbformat_minor": 4
}
