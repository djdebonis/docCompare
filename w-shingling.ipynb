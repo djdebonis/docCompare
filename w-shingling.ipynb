{
 "cells": [
  {
   "cell_type": "code",
   "execution_count": 53,
   "metadata": {},
   "outputs": [],
   "source": [
    "import re"
   ]
  },
  {
   "cell_type": "markdown",
   "metadata": {},
   "source": [
    "## W-Shingling\n",
    "\n",
    "Given the n-grams across two documents, where the items/tokens are words, find the Jaccard Coefficient of the two documents using the following:\n",
    "\n",
    "$$J(S(d_{1}), S(d_{2})) = \\frac{S(d_{1}) \\cap S(d_{2})}{S(d_{1}) \\cup S(d_{2})}$$\n",
    "\n",
    "Sources:\n",
    "\n",
    "https://nlp.stanford.edu/IR-book/html/htmledition/near-duplicates-and-shingling-1.html"
   ]
  },
  {
   "cell_type": "code",
   "execution_count": 25,
   "metadata": {},
   "outputs": [],
   "source": [
    "setTest = \"a rose is a rose is a rose\"\n",
    "someSet = \"a rose is not a rose if a rose is a rose but how can a rose be a rose if a rose is a rose\""
   ]
  },
  {
   "cell_type": "code",
   "execution_count": 18,
   "metadata": {},
   "outputs": [],
   "source": [
    "def getTokens_basic(string):\n",
    "    tokens = string.split(\" \")\n",
    "    return(tokens)"
   ]
  },
  {
   "cell_type": "code",
   "execution_count": 19,
   "metadata": {},
   "outputs": [],
   "source": [
    "def getTokens(tokens, pattern = r\"\\w+|\\d+\"):\n",
    "    \"\"\"\n",
    "    Uses re and nltk to tokenize each string (sentence) in a list into a list of tokens (words).\n",
    "    \n",
    "    Parameters\n",
    "    ----------\n",
    "    lsOfSent : list of str(s)\n",
    "        `lsOfSent` is a list of strings, where each string is a sentence (one token of the total doc).\n",
    "        \n",
    "    Returns\n",
    "    -------\n",
    "    lsOfLsOfToken : list of list(s) of str(s)\n",
    "        returns a string with all of the text read in from the .txt document directed by `infilePathAndName`\n",
    "    \n",
    "    See Also\n",
    "    --------\n",
    "        functions.readData : function tailored to read the specific datasets in this repository\n",
    "    \n",
    "    \"\"\"\n",
    "    \n",
    "    # pattern = r\"\\w+|\\d+\" # grabs words and numbers; removes punctuation\n",
    "    tokens = regexp_tokenize(token, pattern)\n",
    "    \n",
    "    return(tokens)"
   ]
  },
  {
   "cell_type": "code",
   "execution_count": 20,
   "metadata": {},
   "outputs": [],
   "source": [
    "def get_nGrams(tokens, n):\n",
    "    \"\"\"\n",
    "    Takes in a cleaned string (more cleaning features will\n",
    "    be brought in later) and returns a list of lists\n",
    "    of n-grams from the str `string` given that each sublist\n",
    "    will be of len(`n`).\n",
    "    \n",
    "    `n` \n",
    "    \n",
    "    \"\"\"\n",
    "    lastTokenLimit = len(tokens) - (n-1)\n",
    "    grams = []\n",
    "    for i in range(lastTokenLimit):\n",
    "        grams.append(tokens[i:(i+n)])\n",
    "    \n",
    "    return(grams)"
   ]
  },
  {
   "cell_type": "code",
   "execution_count": 41,
   "metadata": {},
   "outputs": [],
   "source": [
    "def getUnique(aSet):\n",
    "    \"\"\"\n",
    "    Takes a single set and extracts only the unique elements\n",
    "    \n",
    "    \"\"\"\n",
    "    \n",
    "    uniqueSet = []\n",
    "    \n",
    "    for index,ngram in enumerate(aSet):\n",
    "        if ngram not in uniqueSet:\n",
    "            uniqueSet.append(ngram)\n",
    "            \n",
    "    return(uniqueSet)"
   ]
  },
  {
   "cell_type": "code",
   "execution_count": 21,
   "metadata": {},
   "outputs": [],
   "source": [
    "def getUnion(set1, set2):\n",
    "    \"\"\"\n",
    "    Takes two sets (each set is a list of lists) and returns\n",
    "    the union of the two sets (a list of lists); i.e. returns\n",
    "    a single set of all of the unique sets between the two sets\n",
    "    given in the arguments. (what a mouth-full)\n",
    "    \n",
    "    \"\"\"\n",
    "    \n",
    "    unionSet = []\n",
    "    \n",
    "    for index,ngram in enumerate(set1):\n",
    "        if ngram not in unionSet:\n",
    "            unionSet.append(ngram)\n",
    "            \n",
    "    for index,ngram in enumerate(set2):\n",
    "        if ngram not in unionSet:\n",
    "            unionSet.append(ngram)\n",
    "            \n",
    "    return(unionSet)"
   ]
  },
  {
   "cell_type": "code",
   "execution_count": 40,
   "metadata": {},
   "outputs": [],
   "source": [
    "def getIntersect(set1, set2):\n",
    "    \"\"\"\n",
    "    Takes two sets (each set is a list of lists) and returns\n",
    "    the intersection of the two sets (a list of lists); i.e. returns\n",
    "    a single set of all of the unique sets that are in both `set1` \n",
    "    and `set2`\n",
    "    \n",
    "    *This is an extremely heavy function and is going to take some*\n",
    "    *algorithm analysis to make more efficient*\n",
    "    \n",
    "    \n",
    "    * What if we first isolate each set to only have uniques, then compare them?\n",
    "    \n",
    "    \"\"\"\n",
    "    \n",
    "    intersectSet = []\n",
    "    \n",
    "    # two options:\n",
    "    \n",
    "    # option 1: first check if already in intersectionSect then check if in both sets\n",
    "    for index,ngram in enumerate(set1):\n",
    "        if ngram not in intersectSet:\n",
    "            if ngram in set2:\n",
    "                intersectSet.append(ngram)\n",
    "    \n",
    "    # option 2: first check if in both sets then check if in intersection set\n",
    "#     for index,ngram in enumerate(set1):\n",
    "#         if ngram in set2:\n",
    "#             if ngram not in intersectSet:\n",
    "#                 intersectSet.append(ngram)\n",
    "                \n",
    "    # but then we have some more intelligent options, where we actually could assess the length\n",
    "    # of the provided lists to improve efficiency\n",
    "    \n",
    "    \n",
    "    \n",
    "    \n",
    "    \n",
    "    return(intersectSet)\n",
    "        "
   ]
  },
  {
   "cell_type": "code",
   "execution_count": 26,
   "metadata": {},
   "outputs": [
    {
     "name": "stdout",
     "output_type": "stream",
     "text": [
      "Shingle 1: ['a', 'rose', 'is', 'not']\n",
      "Shingle 2: ['rose', 'is', 'not', 'a']\n",
      "Shingle 3: ['is', 'not', 'a', 'rose']\n",
      "Shingle 4: ['not', 'a', 'rose', 'if']\n",
      "Shingle 5: ['a', 'rose', 'if', 'a']\n",
      "Shingle 6: ['rose', 'if', 'a', 'rose']\n",
      "Shingle 7: ['if', 'a', 'rose', 'is']\n",
      "Shingle 8: ['a', 'rose', 'is', 'a']\n",
      "Shingle 9: ['rose', 'is', 'a', 'rose']\n",
      "Shingle 10: ['is', 'a', 'rose', 'but']\n",
      "Shingle 11: ['a', 'rose', 'but', 'how']\n",
      "Shingle 12: ['rose', 'but', 'how', 'can']\n",
      "Shingle 13: ['but', 'how', 'can', 'a']\n",
      "Shingle 14: ['how', 'can', 'a', 'rose']\n",
      "Shingle 15: ['can', 'a', 'rose', 'be']\n",
      "Shingle 16: ['a', 'rose', 'be', 'a']\n",
      "Shingle 17: ['rose', 'be', 'a', 'rose']\n",
      "Shingle 18: ['be', 'a', 'rose', 'if']\n",
      "Shingle 19: ['a', 'rose', 'if', 'a']\n",
      "Shingle 20: ['rose', 'if', 'a', 'rose']\n",
      "Shingle 21: ['if', 'a', 'rose', 'is']\n",
      "Shingle 22: ['a', 'rose', 'is', 'a']\n",
      "Shingle 23: ['rose', 'is', 'a', 'rose']\n"
     ]
    }
   ],
   "source": [
    "roseTokens2 = getTokens_basic(someSet)\n",
    "roseGram24 = get_nGrams(roseTokens2, 4)\n",
    "for i,e in enumerate(roseGram24):\n",
    "    print(\"Shingle %d: \"%(i+1) + str(e))"
   ]
  },
  {
   "cell_type": "code",
   "execution_count": 52,
   "metadata": {},
   "outputs": [
    {
     "ename": "TypeError",
     "evalue": "unhashable type: 'list'",
     "output_type": "error",
     "traceback": [
      "\u001b[0;31m---------------------------------------------------------------------------\u001b[0m",
      "\u001b[0;31mTypeError\u001b[0m                                 Traceback (most recent call last)",
      "\u001b[0;32m<ipython-input-52-1c878f835a0d>\u001b[0m in \u001b[0;36m<module>\u001b[0;34m\u001b[0m\n\u001b[0;32m----> 1\u001b[0;31m \u001b[0mset\u001b[0m\u001b[0;34m(\u001b[0m\u001b[0mroseGram4\u001b[0m\u001b[0;34m)\u001b[0m\u001b[0;34m\u001b[0m\u001b[0;34m\u001b[0m\u001b[0m\n\u001b[0m",
      "\u001b[0;31mTypeError\u001b[0m: unhashable type: 'list'"
     ]
    }
   ],
   "source": []
  },
  {
   "cell_type": "code",
   "execution_count": 50,
   "metadata": {},
   "outputs": [
    {
     "name": "stdout",
     "output_type": "stream",
     "text": [
      "Help on class list in module builtins:\n",
      "\n",
      "class list(object)\n",
      " |  list(iterable=(), /)\n",
      " |  \n",
      " |  Built-in mutable sequence.\n",
      " |  \n",
      " |  If no argument is given, the constructor creates a new empty list.\n",
      " |  The argument must be an iterable if specified.\n",
      " |  \n",
      " |  Methods defined here:\n",
      " |  \n",
      " |  __add__(self, value, /)\n",
      " |      Return self+value.\n",
      " |  \n",
      " |  __contains__(self, key, /)\n",
      " |      Return key in self.\n",
      " |  \n",
      " |  __delitem__(self, key, /)\n",
      " |      Delete self[key].\n",
      " |  \n",
      " |  __eq__(self, value, /)\n",
      " |      Return self==value.\n",
      " |  \n",
      " |  __ge__(self, value, /)\n",
      " |      Return self>=value.\n",
      " |  \n",
      " |  __getattribute__(self, name, /)\n",
      " |      Return getattr(self, name).\n",
      " |  \n",
      " |  __getitem__(...)\n",
      " |      x.__getitem__(y) <==> x[y]\n",
      " |  \n",
      " |  __gt__(self, value, /)\n",
      " |      Return self>value.\n",
      " |  \n",
      " |  __iadd__(self, value, /)\n",
      " |      Implement self+=value.\n",
      " |  \n",
      " |  __imul__(self, value, /)\n",
      " |      Implement self*=value.\n",
      " |  \n",
      " |  __init__(self, /, *args, **kwargs)\n",
      " |      Initialize self.  See help(type(self)) for accurate signature.\n",
      " |  \n",
      " |  __iter__(self, /)\n",
      " |      Implement iter(self).\n",
      " |  \n",
      " |  __le__(self, value, /)\n",
      " |      Return self<=value.\n",
      " |  \n",
      " |  __len__(self, /)\n",
      " |      Return len(self).\n",
      " |  \n",
      " |  __lt__(self, value, /)\n",
      " |      Return self<value.\n",
      " |  \n",
      " |  __mul__(self, value, /)\n",
      " |      Return self*value.\n",
      " |  \n",
      " |  __ne__(self, value, /)\n",
      " |      Return self!=value.\n",
      " |  \n",
      " |  __repr__(self, /)\n",
      " |      Return repr(self).\n",
      " |  \n",
      " |  __reversed__(self, /)\n",
      " |      Return a reverse iterator over the list.\n",
      " |  \n",
      " |  __rmul__(self, value, /)\n",
      " |      Return value*self.\n",
      " |  \n",
      " |  __setitem__(self, key, value, /)\n",
      " |      Set self[key] to value.\n",
      " |  \n",
      " |  __sizeof__(self, /)\n",
      " |      Return the size of the list in memory, in bytes.\n",
      " |  \n",
      " |  append(self, object, /)\n",
      " |      Append object to the end of the list.\n",
      " |  \n",
      " |  clear(self, /)\n",
      " |      Remove all items from list.\n",
      " |  \n",
      " |  copy(self, /)\n",
      " |      Return a shallow copy of the list.\n",
      " |  \n",
      " |  count(self, value, /)\n",
      " |      Return number of occurrences of value.\n",
      " |  \n",
      " |  extend(self, iterable, /)\n",
      " |      Extend list by appending elements from the iterable.\n",
      " |  \n",
      " |  index(self, value, start=0, stop=9223372036854775807, /)\n",
      " |      Return first index of value.\n",
      " |      \n",
      " |      Raises ValueError if the value is not present.\n",
      " |  \n",
      " |  insert(self, index, object, /)\n",
      " |      Insert object before index.\n",
      " |  \n",
      " |  pop(self, index=-1, /)\n",
      " |      Remove and return item at index (default last).\n",
      " |      \n",
      " |      Raises IndexError if list is empty or index is out of range.\n",
      " |  \n",
      " |  remove(self, value, /)\n",
      " |      Remove first occurrence of value.\n",
      " |      \n",
      " |      Raises ValueError if the value is not present.\n",
      " |  \n",
      " |  reverse(self, /)\n",
      " |      Reverse *IN PLACE*.\n",
      " |  \n",
      " |  sort(self, /, *, key=None, reverse=False)\n",
      " |      Stable sort *IN PLACE*.\n",
      " |  \n",
      " |  ----------------------------------------------------------------------\n",
      " |  Static methods defined here:\n",
      " |  \n",
      " |  __new__(*args, **kwargs) from builtins.type\n",
      " |      Create and return a new object.  See help(type) for accurate signature.\n",
      " |  \n",
      " |  ----------------------------------------------------------------------\n",
      " |  Data and other attributes defined here:\n",
      " |  \n",
      " |  __hash__ = None\n",
      "\n"
     ]
    }
   ],
   "source": []
  },
  {
   "cell_type": "code",
   "execution_count": 27,
   "metadata": {},
   "outputs": [
    {
     "name": "stdout",
     "output_type": "stream",
     "text": [
      "Shingle 1: ['a', 'rose', 'is', 'a']\n",
      "Shingle 2: ['rose', 'is', 'a', 'rose']\n",
      "Shingle 3: ['is', 'a', 'rose', 'is']\n",
      "Shingle 4: ['a', 'rose', 'is', 'a']\n",
      "Shingle 5: ['rose', 'is', 'a', 'rose']\n"
     ]
    }
   ],
   "source": [
    "roseTokens = getTokens_basic(setTest)\n",
    "roseGram4 = get_nGrams(roseTokens, 4)\n",
    "for i,e in enumerate(roseGram4):\n",
    "    print(\"Shingle %d: \"%(i+1) + str(e))"
   ]
  },
  {
   "cell_type": "code",
   "execution_count": 33,
   "metadata": {},
   "outputs": [
    {
     "name": "stdout",
     "output_type": "stream",
     "text": [
      "Shingle 1: ['a', 'rose', 'is', 'a']\n",
      "Shingle 2: ['rose', 'is', 'a', 'rose']\n",
      "Shingle 3: ['is', 'a', 'rose', 'is']\n",
      "Shingle 4: ['a', 'rose', 'is', 'not']\n",
      "Shingle 5: ['rose', 'is', 'not', 'a']\n",
      "Shingle 6: ['is', 'not', 'a', 'rose']\n",
      "Shingle 7: ['not', 'a', 'rose', 'if']\n",
      "Shingle 8: ['a', 'rose', 'if', 'a']\n",
      "Shingle 9: ['rose', 'if', 'a', 'rose']\n",
      "Shingle 10: ['if', 'a', 'rose', 'is']\n",
      "Shingle 11: ['is', 'a', 'rose', 'but']\n",
      "Shingle 12: ['a', 'rose', 'but', 'how']\n",
      "Shingle 13: ['rose', 'but', 'how', 'can']\n",
      "Shingle 14: ['but', 'how', 'can', 'a']\n",
      "Shingle 15: ['how', 'can', 'a', 'rose']\n",
      "Shingle 16: ['can', 'a', 'rose', 'be']\n",
      "Shingle 17: ['a', 'rose', 'be', 'a']\n",
      "Shingle 18: ['rose', 'be', 'a', 'rose']\n",
      "Shingle 19: ['be', 'a', 'rose', 'if']\n"
     ]
    }
   ],
   "source": [
    "testUnion = getUnion(roseGram4, roseGram24)\n",
    "for i,e in enumerate(testUnion):\n",
    "    print(\"Shingle %d: \"%(i+1) + str(e))"
   ]
  },
  {
   "cell_type": "code",
   "execution_count": 39,
   "metadata": {},
   "outputs": [
    {
     "name": "stdout",
     "output_type": "stream",
     "text": [
      "Shingle 1: ['a', 'rose', 'is', 'a']\n",
      "Shingle 2: ['rose', 'is', 'a', 'rose']\n"
     ]
    }
   ],
   "source": [
    "testIntersection = getIntersect(roseGram4, roseGram24)\n",
    "for i,e in enumerate(testIntersection):\n",
    "    print(\"Shingle %d: \"%(i+1) + str(e))"
   ]
  },
  {
   "cell_type": "code",
   "execution_count": 4,
   "metadata": {},
   "outputs": [
    {
     "data": {
      "text/plain": [
       "True"
      ]
     },
     "execution_count": 4,
     "metadata": {},
     "output_type": "execute_result"
    }
   ],
   "source": [
    "[\"fruit\", \"cake\"] == [\"fruit\", \"cake\"]"
   ]
  },
  {
   "cell_type": "code",
   "execution_count": null,
   "metadata": {},
   "outputs": [],
   "source": []
  }
 ],
 "metadata": {
  "kernelspec": {
   "display_name": "Python 3",
   "language": "python",
   "name": "python3"
  },
  "language_info": {
   "codemirror_mode": {
    "name": "ipython",
    "version": 3
   },
   "file_extension": ".py",
   "mimetype": "text/x-python",
   "name": "python",
   "nbconvert_exporter": "python",
   "pygments_lexer": "ipython3",
   "version": "3.7.3"
  }
 },
 "nbformat": 4,
 "nbformat_minor": 4
}
