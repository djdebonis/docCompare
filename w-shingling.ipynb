{
 "cells": [
  {
   "cell_type": "markdown",
   "metadata": {},
   "source": [
    "## W-Shingling\n",
    "\n",
    "Given the n-grams across two documents, where the items/tokens are words, find the Jaccard Coefficient of the two documents using the following:\n",
    "\n",
    "$$J(S(d_{1}), S(d_{2})) = \\frac{S(d_{1}) \\cap S(d_{2})}{S(d_{1}) \\cup S(d_{2})}$$\n",
    "\n",
    "Sources:\n",
    "\n",
    "https://nlp.stanford.edu/IR-book/html/htmledition/near-duplicates-and-shingling-1.html"
   ]
  },
  {
   "cell_type": "code",
   "execution_count": 1,
   "metadata": {},
   "outputs": [],
   "source": [
    "setTest = \"a rose is a rose is a rose\""
   ]
  },
  {
   "cell_type": "code",
   "execution_count": 14,
   "metadata": {},
   "outputs": [],
   "source": [
    "def get_nGrams(string, n):\n",
    "    \"\"\"\n",
    "    Takes in a cleaned string (more cleaning features will\n",
    "    be brought in later) and returns a list of lists\n",
    "    of n-grams from the str `string` given that each sublist\n",
    "    will be of len(`n`).\n",
    "    \n",
    "    \"\"\"\n",
    "    tokens = string.split(' ')\n",
    "    lastTokenStart = len(tokens) - (n-1)\n",
    "    grams = []\n",
    "    for i in range(lastTokenStart):\n",
    "        grams.append(tokens[i:(i+n)])\n",
    "    \n",
    "    return(grams)"
   ]
  },
  {
   "cell_type": "code",
   "execution_count": 12,
   "metadata": {},
   "outputs": [
    {
     "data": {
      "text/plain": [
       "[['a', 'rose', 'is'],\n",
       " ['rose', 'is', 'a'],\n",
       " ['is', 'a', 'rose'],\n",
       " ['a', 'rose', 'is'],\n",
       " ['rose', 'is', 'a'],\n",
       " ['is', 'a', 'rose']]"
      ]
     },
     "execution_count": 12,
     "metadata": {},
     "output_type": "execute_result"
    }
   ],
   "source": [
    "roseGram4 = get_nGrams(setTest, 4)"
   ]
  },
  {
   "cell_type": "code",
   "execution_count": null,
   "metadata": {},
   "outputs": [],
   "source": []
  }
 ],
 "metadata": {
  "kernelspec": {
   "display_name": "Python 3",
   "language": "python",
   "name": "python3"
  },
  "language_info": {
   "codemirror_mode": {
    "name": "ipython",
    "version": 3
   },
   "file_extension": ".py",
   "mimetype": "text/x-python",
   "name": "python",
   "nbconvert_exporter": "python",
   "pygments_lexer": "ipython3",
   "version": "3.7.3"
  }
 },
 "nbformat": 4,
 "nbformat_minor": 4
}
